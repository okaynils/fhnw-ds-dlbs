{
 "cells": [
  {
   "cell_type": "markdown",
   "metadata": {},
   "source": [
    "# Mini Challenge: Deep Learning for Images and Signals\n",
    "- Name: Nils Fahrni\n",
    "- Submission Date: t.b.d."
   ]
  },
  {
   "cell_type": "markdown",
   "metadata": {},
   "source": [
    "## How does the performance of a U-Net semantic segmentation model differ between scenes of city streets and non-city streets in the BDD100K dataset?"
   ]
  },
  {
   "cell_type": "markdown",
   "metadata": {},
   "source": [
    "## Package Usage"
   ]
  },
  {
   "cell_type": "code",
   "execution_count": 1,
   "metadata": {},
   "outputs": [
    {
     "name": "stdout",
     "output_type": "stream",
     "text": [
      "env: \"WANDB_NOTEBOOK_NAME\"=\"dlbs\"\n"
     ]
    }
   ],
   "source": [
    "#%env WANDB_SILENT=True\n",
    "%env \"WANDB_NOTEBOOK_NAME\" \"dlbs\"\n",
    "\n",
    "import os\n",
    "import sys\n",
    "import matplotlib.pyplot as plt\n",
    "import seaborn as sns\n",
    "import numpy as np\n",
    "from PIL import Image\n",
    "import wandb\n",
    "import random"
   ]
  },
  {
   "cell_type": "code",
   "execution_count": 2,
   "metadata": {},
   "outputs": [],
   "source": [
    "RANDOM_SEED = 1337\n",
    "\n",
    "random.seed(RANDOM_SEED)\n",
    "np.random.seed(RANDOM_SEED)"
   ]
  },
  {
   "cell_type": "markdown",
   "metadata": {},
   "source": [
    "## Dataset\n",
    "Berkeley Deep Drive Dataset: https://arxiv.org/abs/1805.04687"
   ]
  },
  {
   "cell_type": "code",
   "execution_count": 3,
   "metadata": {},
   "outputs": [],
   "source": [
    "import os\n",
    "\n",
    "BASE_DATA_PATH = os.path.join('data', 'bdd100k', 'images', '10k', 'train')\n",
    "BASE_LABELS_PATH = os.path.join('data', 'bdd100k', 'labels', 'sem_seg', 'masks', 'train')"
   ]
  },
  {
   "cell_type": "markdown",
   "metadata": {},
   "source": [
    "### Exploration\n",
    "\n",
    "[Become one with the data](https://karpathy.github.io/2019/04/25/recipe/#:~:text=1.%20Become%20one%20with%20the%20data)"
   ]
  },
  {
   "cell_type": "markdown",
   "metadata": {},
   "source": [
    "#### Metrics"
   ]
  },
  {
   "cell_type": "code",
   "execution_count": null,
   "metadata": {},
   "outputs": [],
   "source": []
  },
  {
   "cell_type": "markdown",
   "metadata": {},
   "source": [
    "#### Looking at some samples"
   ]
  },
  {
   "cell_type": "code",
   "execution_count": null,
   "metadata": {},
   "outputs": [],
   "source": []
  },
  {
   "cell_type": "markdown",
   "metadata": {},
   "source": [
    "#### Spatial Heatmap\n",
    "\n",
    "https://doc.bdd100k.com/format.html#semantic-segmentation"
   ]
  },
  {
   "cell_type": "code",
   "execution_count": 4,
   "metadata": {},
   "outputs": [],
   "source": [
    "class_dict = {\n",
    "    0: \"road\",\n",
    "    1: \"sidewalk\",\n",
    "    2: \"building\",\n",
    "    3: \"wall\",\n",
    "    4: \"fence\",\n",
    "    5: \"pole\",\n",
    "    6: \"traffic light\",\n",
    "    7: \"traffic sign\",\n",
    "    8: \"vegetation\",\n",
    "    9: \"terrain\",\n",
    "    10: \"sky\",\n",
    "    11: \"person\",\n",
    "    12: \"rider\",\n",
    "    13: \"car\",\n",
    "    14: \"truck\",\n",
    "    15: \"bus\",\n",
    "    16: \"train\",\n",
    "    17: \"motorcycle\",\n",
    "    18: \"bicycle\"\n",
    "}"
   ]
  },
  {
   "cell_type": "code",
   "execution_count": 5,
   "metadata": {},
   "outputs": [
    {
     "name": "stdout",
     "output_type": "stream",
     "text": [
      "Couldn't find program: 'false'\n"
     ]
    }
   ],
   "source": [
    "%%script false --no-raise-error\n",
    "\n",
    "import os\n",
    "import numpy as np\n",
    "import matplotlib.pyplot as plt\n",
    "from PIL import Image\n",
    "import random\n",
    "from tqdm import tqdm\n",
    "\n",
    "label_folder = BASE_LABELS_PATH\n",
    "\n",
    "target_width, target_height = 128, 228\n",
    "N_SAMPLES = 1000\n",
    "\n",
    "heatmaps = {class_id: np.zeros((target_height, target_width), dtype=np.float32) for class_id in class_dict.keys()}\n",
    "\n",
    "for class_id, class_name in tqdm(class_dict.items(), desc=\"Processing Classes\"):\n",
    "    all_files = [f for f in os.listdir(label_folder) if f.endswith('.png')]\n",
    "    sampled_files = random.sample(all_files, min(N_SAMPLES, len(all_files)))\n",
    "    \n",
    "    for file in tqdm(sampled_files, desc=f\"Sampling {class_name}\", leave=False):\n",
    "        label_path = os.path.join(label_folder, file)\n",
    "        with Image.open(label_path) as img:\n",
    "            label = np.array(img)\n",
    "            \n",
    "            label_resized = np.array(Image.fromarray(label).resize((target_width, target_height), Image.NEAREST))\n",
    "\n",
    "            mask = (label_resized == class_id)\n",
    "            heatmaps[class_id] += mask.astype(np.float32)\n",
    "\n",
    "    heatmaps[class_id] /= len(sampled_files)\n",
    "\n",
    "fig, axs = plt.subplots(4, 5, figsize=(20, 15))\n",
    "fig.suptitle(\"Spatial Heatmaps for all Classes\", fontsize=20)\n",
    "\n",
    "for class_id, class_name in class_dict.items():\n",
    "    ax = axs[class_id // 5, class_id % 5]\n",
    "    sns.heatmap(heatmaps[class_id], ax=ax, cmap=\"viridis\", cbar=False)\n",
    "    ax.set_title(class_name)\n",
    "    ax.axis('off')\n",
    "\n",
    "for i in range(len(class_dict), 4 * 5):\n",
    "    fig.delaxes(axs[i // 5, i % 5])\n",
    "\n",
    "plt.tight_layout(rect=[0, 0, 1, 0.95])\n",
    "plt.show()\n"
   ]
  },
  {
   "cell_type": "markdown",
   "metadata": {},
   "source": [
    "**Observations**\n",
    "- Train, Rider, Motorcycle and bicycle seem to be rather underrepresented since these objects' shapes are still clearly visible and don't have a high overlap"
   ]
  },
  {
   "cell_type": "markdown",
   "metadata": {},
   "source": [
    "#### Co-Occurence"
   ]
  },
  {
   "cell_type": "code",
   "execution_count": 6,
   "metadata": {},
   "outputs": [
    {
     "name": "stdout",
     "output_type": "stream",
     "text": [
      "Couldn't find program: 'false'\n"
     ]
    }
   ],
   "source": [
    "%%script false --no-raise-error\n",
    "\n",
    "import os\n",
    "import numpy as np\n",
    "import matplotlib.pyplot as plt\n",
    "from tqdm import tqdm\n",
    "from PIL import Image\n",
    "\n",
    "label_folders = [BASE_LABELS_PATH]\n",
    "num_classes = len(class_dict)\n",
    "class_names = list(class_dict.values())\n",
    "\n",
    "co_occurrence_matrix = np.zeros((num_classes, num_classes), dtype=np.int32)\n",
    "\n",
    "for label_folder in label_folders:\n",
    "    all_files = [f for f in os.listdir(label_folder) if f.endswith('.png')]\n",
    "    \n",
    "    for file in tqdm(all_files, desc=f\"Processing Masks in {label_folder}\"):\n",
    "        label_path = os.path.join(label_folder, file)\n",
    "        with Image.open(label_path) as img:\n",
    "            label = np.array(img)\n",
    "\n",
    "            unique_classes = np.unique(label)\n",
    "\n",
    "            for i in range(len(unique_classes)):\n",
    "                for j in range(i, len(unique_classes)):\n",
    "                    class_i = unique_classes[i]\n",
    "                    class_j = unique_classes[j]\n",
    "                    if class_i < num_classes and class_j < num_classes:\n",
    "                        co_occurrence_matrix[class_i, class_j] += 1\n",
    "                        if class_i != class_j:\n",
    "                            co_occurrence_matrix[class_j, class_i] += 1\n",
    "\n",
    "plt.figure(figsize=(12, 10))\n",
    "ax = sns.heatmap(co_occurrence_matrix, annot=True, fmt=\"d\", cmap=\"Blues\", xticklabels=class_names, yticklabels=class_names)\n",
    "plt.title(\"Class Co-Occurrence Matrix for Train and Val Sets\", pad=20)\n",
    "plt.xlabel(\"Class\")\n",
    "plt.ylabel(\"Class\")\n",
    "\n",
    "ax.xaxis.tick_top()\n",
    "ax.xaxis.set_label_position('top') \n",
    "\n",
    "plt.xticks(rotation=45, ha=\"left\")\n",
    "plt.yticks(rotation=0)\n",
    "plt.tight_layout()\n",
    "plt.show()\n"
   ]
  },
  {
   "cell_type": "markdown",
   "metadata": {},
   "source": [
    "### Training and Evaluation Skeleton\n",
    "\n",
    "[Set up the end-to-end training/evaluation skeleton + get dumb baselines](https://karpathy.github.io/2019/04/25/recipe/#:~:text=Set%20up%20the%20end%2Dto%2Dend%20training/evaluation%20skeleton%20%2B%20get%20dumb%20baselines)"
   ]
  },
  {
   "cell_type": "code",
   "execution_count": 7,
   "metadata": {},
   "outputs": [
    {
     "name": "stdout",
     "output_type": "stream",
     "text": [
      "Using cuda device\n"
     ]
    }
   ],
   "source": [
    "import torch\n",
    "import torch.nn as nn\n",
    "from torcheval.metrics import MulticlassAccuracy\n",
    "\n",
    "RANDOM_SEED = 1337\n",
    "\n",
    "device = (\n",
    "    \"cuda\"\n",
    "    if torch.cuda.is_available()\n",
    "    else \"mps\"\n",
    "    if torch.backends.mps.is_available()\n",
    "    else \"cpu\"\n",
    ")\n",
    "\n",
    "print(f\"Using {device} device\")"
   ]
  },
  {
   "cell_type": "markdown",
   "metadata": {},
   "source": [
    "#### Data Loading & Splitting"
   ]
  },
  {
   "cell_type": "code",
   "execution_count": 8,
   "metadata": {},
   "outputs": [
    {
     "name": "stdout",
     "output_type": "stream",
     "text": [
      "\n",
      "--- Split Sizes ---\n",
      "- Train Images: 2518\n",
      "- Val Images: 454\n",
      "- Test Images: 454\n",
      "\n",
      "--- Overlap Report ---\n",
      "✔️ No overlap detected between train and validation sets.\n",
      "✔️ No overlap detected between train and test sets.\n",
      "✔️ No overlap detected between validation and test sets.\n",
      "\n"
     ]
    }
   ],
   "source": [
    "from torch.utils.data import DataLoader\n",
    "from torchvision import transforms\n",
    "import numpy as np\n",
    "import torch\n",
    "\n",
    "from data import BDD100KDataset, custom_split_dataset_with_det, check_dataset_overlap\n",
    "\n",
    "DET_TRAIN_PATH = './data/bdd100k/labels/det_20/det_train.json'\n",
    "DET_VAL_PATH = './data/bdd100k/labels/det_20/det_val.json'\n",
    "\n",
    "split_data = custom_split_dataset_with_det(base_data_path=BASE_DATA_PATH, \n",
    "                                           base_labels_path=BASE_LABELS_PATH, \n",
    "                                           det_train_path=DET_TRAIN_PATH, \n",
    "                                           det_val_path=DET_VAL_PATH)\n",
    "\n",
    "check_dataset_overlap(\n",
    "    split_data['train']['image_filenames'],\n",
    "    split_data['val']['image_filenames'],\n",
    "    split_data['test']['image_filenames']\n",
    ")\n",
    "\n",
    "image_transform = transforms.Compose([\n",
    "    transforms.Resize((72, 128)),\n",
    "    transforms.ToTensor(),\n",
    "])\n",
    "\n",
    "label_transform = transforms.Compose([\n",
    "    transforms.Resize((72, 128), interpolation=transforms.InterpolationMode.NEAREST),\n",
    "    transforms.Lambda(lambda x: torch.tensor(np.array(x), dtype=torch.long)),\n",
    "])\n",
    "\n",
    "train_dataset = BDD100KDataset(\n",
    "    images_dir=split_data['train']['data_folder'],\n",
    "    labels_dir=split_data['train']['labels_folder'],\n",
    "    filenames=split_data['train']['image_filenames'],\n",
    "    transform=image_transform,\n",
    "    target_transform=label_transform,\n",
    "    scene_info=split_data['train']['scene_map']\n",
    ")\n",
    "\n",
    "val_dataset = BDD100KDataset(\n",
    "    images_dir=split_data['val']['data_folder'],\n",
    "    labels_dir=split_data['val']['labels_folder'],\n",
    "    filenames=split_data['val']['image_filenames'],\n",
    "    transform=image_transform,\n",
    "    target_transform=label_transform,\n",
    "    scene_info=split_data['val']['scene_map']\n",
    ")\n",
    "\n",
    "test_dataset = BDD100KDataset(\n",
    "    images_dir=split_data['test']['data_folder'],\n",
    "    labels_dir=split_data['test']['labels_folder'],\n",
    "    filenames=split_data['test']['image_filenames'],\n",
    "    transform=image_transform,\n",
    "    target_transform=label_transform,\n",
    "    scene_info=split_data['test']['scene_map']\n",
    ")\n"
   ]
  },
  {
   "cell_type": "code",
   "execution_count": 9,
   "metadata": {},
   "outputs": [
    {
     "name": "stderr",
     "output_type": "stream",
     "text": [
      "Analyzing Train: 100%|██████████| 2518/2518 [00:31<00:00, 79.77it/s]\n",
      "Analyzing Validation: 100%|██████████| 454/454 [00:05<00:00, 80.02it/s]\n",
      "Analyzing Test: 100%|██████████| 454/454 [00:05<00:00, 79.11it/s]\n"
     ]
    }
   ],
   "source": [
    "import numpy as np\n",
    "from collections import Counter\n",
    "import matplotlib.pyplot as plt\n",
    "from tqdm import trange\n",
    "\n",
    "def map_class_names_and_order(class_distribution, class_dict):\n",
    "    ordered_classes = sorted(class_dict.keys())  # Ensure consistent class order\n",
    "    class_names = [class_dict[class_id] for class_id in ordered_classes if class_id in class_distribution]\n",
    "    proportions = [class_distribution[class_id] for class_id in ordered_classes if class_id in class_distribution]\n",
    "    return class_names, proportions\n",
    "\n",
    "def plot_class_distribution(class_distribution, title, class_dict):\n",
    "    class_names, proportions = map_class_names_and_order(class_distribution, class_dict)\n",
    "    \n",
    "    plt.figure(figsize=(10, 6))\n",
    "    bars = plt.bar(class_names, proportions, color='skyblue', edgecolor='black')\n",
    "    \n",
    "    for bar, proportion in zip(bars, proportions):\n",
    "        plt.text(bar.get_x() + bar.get_width() / 2, bar.get_height(), \n",
    "                 f\"{proportion * 100:.2f}%\", ha='center', va='bottom', fontsize=9)\n",
    "\n",
    "    plt.grid(axis='y', linestyle='--', alpha=0.7)\n",
    "\n",
    "    plt.xlabel('Class')\n",
    "    plt.ylabel('Proportion of Pixels')\n",
    "    plt.title(title)\n",
    "    plt.xticks(rotation=45, ha='right')\n",
    "    plt.tight_layout()\n",
    "    plt.show()\n",
    "\n",
    "def analyze_class_distribution(dataset, num_classes, dataset_name):\n",
    "    class_counts = Counter()\n",
    "    \n",
    "    for idx in trange(len(dataset), desc=f\"Analyzing {dataset_name}\"):\n",
    "        try:\n",
    "            _, mask, _ = dataset[idx]  # Access dataset item\n",
    "            mask_array = np.array(mask)  # Convert mask to numpy array\n",
    "            unique, counts = np.unique(mask_array, return_counts=True)\n",
    "            class_counts.update(dict(zip(unique, counts)))\n",
    "        except Exception as e:\n",
    "            print(f\"Error processing index {idx}: {e}\")\n",
    "            continue\n",
    "\n",
    "    # Normalize counts\n",
    "    total_pixels = sum(class_counts.values())\n",
    "    class_distribution = {cls: count / total_pixels for cls, count in class_counts.items()}\n",
    "\n",
    "    return class_counts, class_distribution\n",
    "\n",
    "train_class_counts, train_class_distribution = analyze_class_distribution(train_dataset, num_classes=19, dataset_name=\"Train\")\n",
    "val_class_counts, val_class_distribution = analyze_class_distribution(val_dataset, num_classes=19, dataset_name=\"Validation\")\n",
    "test_class_counts, test_class_distribution = analyze_class_distribution(test_dataset, num_classes=19, dataset_name=\"Test\")"
   ]
  },
  {
   "cell_type": "code",
   "execution_count": 10,
   "metadata": {},
   "outputs": [
    {
     "name": "stdout",
     "output_type": "stream",
     "text": [
      "Couldn't find program: 'false'\n"
     ]
    }
   ],
   "source": [
    "%%script false --no-raise-error\n",
    "\n",
    "plot_class_distribution(train_class_distribution, \"Train Class Distribution\", class_dict)\n",
    "plot_class_distribution(val_class_distribution, \"Validation Class Distribution\", class_dict)\n",
    "plot_class_distribution(test_class_distribution, \"Test Class Distribution\", class_dict)"
   ]
  },
  {
   "cell_type": "markdown",
   "metadata": {},
   "source": [
    "#### Training and Evaluation Skeleton"
   ]
  },
  {
   "cell_type": "code",
   "execution_count": 11,
   "metadata": {},
   "outputs": [],
   "source": [
    "from trainer import Trainer\n",
    "from torch.utils.data import DataLoader\n",
    "\n",
    "train_dataloader = DataLoader(train_dataset, batch_size=16, shuffle=True)\n",
    "val_dataloader = DataLoader(val_dataset, batch_size=16, shuffle=False)\n",
    "test_dataloader = DataLoader(test_dataset, batch_size=16, shuffle=False)"
   ]
  },
  {
   "cell_type": "code",
   "execution_count": 12,
   "metadata": {},
   "outputs": [],
   "source": [
    "import collections\n",
    "\n",
    "ordered_class_dists = collections.OrderedDict(sorted(train_class_distribution.items()))\n",
    "class_weights = torch.tensor(list(ordered_class_dists.values()), device=device).float()[:-1]"
   ]
  },
  {
   "cell_type": "markdown",
   "metadata": {},
   "source": [
    "### Baseline: (Tiny-)U-Net"
   ]
  },
  {
   "cell_type": "code",
   "execution_count": 14,
   "metadata": {},
   "outputs": [],
   "source": [
    "overfit_datalader = DataLoader(train_dataset[:8], batch_size=8, shuffle=True)"
   ]
  },
  {
   "cell_type": "code",
   "execution_count": 15,
   "metadata": {},
   "outputs": [
    {
     "name": "stderr",
     "output_type": "stream",
     "text": [
      "\u001b[34m\u001b[1mwandb\u001b[0m: Using wandb-core as the SDK backend. Please refer to https://wandb.me/wandb-core for more information.\n",
      "\u001b[34m\u001b[1mwandb\u001b[0m: Currently logged in as: \u001b[33mokaynils\u001b[0m. Use \u001b[1m`wandb login --relogin`\u001b[0m to force relogin\n"
     ]
    },
    {
     "data": {
      "text/html": [
       "Tracking run with wandb version 0.18.5"
      ],
      "text/plain": [
       "<IPython.core.display.HTML object>"
      ]
     },
     "metadata": {},
     "output_type": "display_data"
    },
    {
     "data": {
      "text/html": [
       "Run data is saved locally in <code>c:\\Users\\fahrn\\Documents\\Classes\\dlbs\\fhnw-ds-dlbs\\wandb\\run-20241202_153431-56iaektu</code>"
      ],
      "text/plain": [
       "<IPython.core.display.HTML object>"
      ]
     },
     "metadata": {},
     "output_type": "display_data"
    },
    {
     "data": {
      "text/html": [
       "Syncing run <strong><a href='https://wandb.ai/okaynils/dlbs/runs/56iaektu' target=\"_blank\">unet_mini</a></strong> to <a href='https://wandb.ai/okaynils/dlbs' target=\"_blank\">Weights & Biases</a> (<a href='https://wandb.me/run' target=\"_blank\">docs</a>)<br/>"
      ],
      "text/plain": [
       "<IPython.core.display.HTML object>"
      ]
     },
     "metadata": {},
     "output_type": "display_data"
    },
    {
     "data": {
      "text/html": [
       " View project at <a href='https://wandb.ai/okaynils/dlbs' target=\"_blank\">https://wandb.ai/okaynils/dlbs</a>"
      ],
      "text/plain": [
       "<IPython.core.display.HTML object>"
      ]
     },
     "metadata": {},
     "output_type": "display_data"
    },
    {
     "data": {
      "text/html": [
       " View run at <a href='https://wandb.ai/okaynils/dlbs/runs/56iaektu' target=\"_blank\">https://wandb.ai/okaynils/dlbs/runs/56iaektu</a>"
      ],
      "text/plain": [
       "<IPython.core.display.HTML object>"
      ]
     },
     "metadata": {},
     "output_type": "display_data"
    },
    {
     "name": "stdout",
     "output_type": "stream",
     "text": [
      "Epoch 1/1000 - Train Loss: 3.8275, Train IoU: 0.0102 - Val Loss: 3.2700, Val IoU: 0.0059\n",
      "Model saved to models\\UNet_56iaektu.pth with val_loss 3.2700\n",
      "Epoch 2/1000 - Train Loss: 2.5803, Train IoU: 0.0518 - Val Loss: 4.3284, Val IoU: 0.0105\n",
      "Epoch 3/1000 - Train Loss: 1.9375, Train IoU: 0.0915 - Val Loss: 14.3735, Val IoU: 0.0103\n",
      "Epoch 4/1000 - Train Loss: 1.5293, Train IoU: 0.1108 - Val Loss: 26.5552, Val IoU: 0.0104\n",
      "Epoch 5/1000 - Train Loss: 1.1823, Train IoU: 0.1284 - Val Loss: 27.8351, Val IoU: 0.0107\n",
      "Epoch 6/1000 - Train Loss: 0.9255, Train IoU: 0.1404 - Val Loss: 22.9488, Val IoU: 0.0140\n",
      "Epoch 7/1000 - Train Loss: 0.7398, Train IoU: 0.1476 - Val Loss: 33.0785, Val IoU: 0.0260\n",
      "Epoch 8/1000 - Train Loss: 0.6277, Train IoU: 0.1541 - Val Loss: 16.4102, Val IoU: 0.0303\n",
      "Epoch 9/1000 - Train Loss: 0.5451, Train IoU: 0.1567 - Val Loss: 16.4995, Val IoU: 0.0360\n",
      "Epoch 10/1000 - Train Loss: 0.4791, Train IoU: 0.1584 - Val Loss: 16.1905, Val IoU: 0.0360\n",
      "Epoch 11/1000 - Train Loss: 0.4414, Train IoU: 0.1586 - Val Loss: 9.2618, Val IoU: 0.0571\n",
      "Epoch 12/1000 - Train Loss: 0.4008, Train IoU: 0.1584 - Val Loss: 6.7723, Val IoU: 0.0652\n",
      "Epoch 13/1000 - Train Loss: 0.3725, Train IoU: 0.1598 - Val Loss: 4.7751, Val IoU: 0.0727\n",
      "Epoch 14/1000 - Train Loss: 0.3413, Train IoU: 0.1612 - Val Loss: 3.3390, Val IoU: 0.0702\n",
      "Epoch 15/1000 - Train Loss: 0.3143, Train IoU: 0.1932 - Val Loss: 3.0244, Val IoU: 0.0628\n",
      "Model saved to models\\UNet_56iaektu.pth with val_loss 3.0244\n",
      "Epoch 16/1000 - Train Loss: 0.2874, Train IoU: 0.1743 - Val Loss: 3.0036, Val IoU: 0.0617\n",
      "Model saved to models\\UNet_56iaektu.pth with val_loss 3.0036\n",
      "Epoch 17/1000 - Train Loss: 0.2626, Train IoU: 0.2172 - Val Loss: 2.7665, Val IoU: 0.0597\n",
      "Model saved to models\\UNet_56iaektu.pth with val_loss 2.7665\n",
      "Epoch 18/1000 - Train Loss: 0.2383, Train IoU: 0.2124 - Val Loss: 2.6437, Val IoU: 0.0597\n",
      "Model saved to models\\UNet_56iaektu.pth with val_loss 2.6437\n",
      "Epoch 19/1000 - Train Loss: 0.2206, Train IoU: 0.2258 - Val Loss: 2.6578, Val IoU: 0.0587\n",
      "Epoch 20/1000 - Train Loss: 0.2038, Train IoU: 0.2386 - Val Loss: 2.8705, Val IoU: 0.0582\n",
      "Epoch 21/1000 - Train Loss: 0.1866, Train IoU: 0.2459 - Val Loss: 3.1286, Val IoU: 0.0497\n",
      "Epoch 22/1000 - Train Loss: 0.1739, Train IoU: 0.2663 - Val Loss: 3.2930, Val IoU: 0.0435\n",
      "Epoch 23/1000 - Train Loss: 0.1609, Train IoU: 0.2702 - Val Loss: 3.1815, Val IoU: 0.0422\n",
      "Epoch 24/1000 - Train Loss: 0.1497, Train IoU: 0.2726 - Val Loss: 3.0070, Val IoU: 0.0432\n",
      "Epoch 25/1000 - Train Loss: 0.1405, Train IoU: 0.2749 - Val Loss: 2.8848, Val IoU: 0.0430\n",
      "Epoch 26/1000 - Train Loss: 0.1343, Train IoU: 0.2757 - Val Loss: 2.9793, Val IoU: 0.0409\n",
      "Epoch 27/1000 - Train Loss: 0.1281, Train IoU: 0.2774 - Val Loss: 2.8311, Val IoU: 0.0403\n",
      "Epoch 28/1000 - Train Loss: 0.1221, Train IoU: 0.2623 - Val Loss: 2.5963, Val IoU: 0.0452\n",
      "Model saved to models\\UNet_56iaektu.pth with val_loss 2.5963\n",
      "Epoch 29/1000 - Train Loss: 0.1161, Train IoU: 0.2498 - Val Loss: 2.3778, Val IoU: 0.0516\n",
      "Model saved to models\\UNet_56iaektu.pth with val_loss 2.3778\n",
      "Epoch 30/1000 - Train Loss: 0.1127, Train IoU: 0.2511 - Val Loss: 2.1923, Val IoU: 0.0641\n",
      "Model saved to models\\UNet_56iaektu.pth with val_loss 2.1923\n",
      "Epoch 31/1000 - Train Loss: 0.1149, Train IoU: 0.2526 - Val Loss: 2.0547, Val IoU: 0.0703\n",
      "Model saved to models\\UNet_56iaektu.pth with val_loss 2.0547\n",
      "Epoch 32/1000 - Train Loss: 0.1185, Train IoU: 0.2379 - Val Loss: 1.9706, Val IoU: 0.0787\n",
      "Model saved to models\\UNet_56iaektu.pth with val_loss 1.9706\n",
      "Epoch 33/1000 - Train Loss: 0.1073, Train IoU: 0.2559 - Val Loss: 1.9789, Val IoU: 0.0795\n",
      "Epoch 34/1000 - Train Loss: 0.0991, Train IoU: 0.2450 - Val Loss: 1.7932, Val IoU: 0.0881\n",
      "Model saved to models\\UNet_56iaektu.pth with val_loss 1.7932\n",
      "Epoch 35/1000 - Train Loss: 0.0994, Train IoU: 0.2455 - Val Loss: 1.6153, Val IoU: 0.0951\n",
      "Model saved to models\\UNet_56iaektu.pth with val_loss 1.6153\n",
      "Epoch 36/1000 - Train Loss: 0.0924, Train IoU: 0.2491 - Val Loss: 1.5709, Val IoU: 0.0974\n",
      "Model saved to models\\UNet_56iaektu.pth with val_loss 1.5709\n",
      "Epoch 37/1000 - Train Loss: 0.0917, Train IoU: 0.2501 - Val Loss: 1.5139, Val IoU: 0.1033\n",
      "Model saved to models\\UNet_56iaektu.pth with val_loss 1.5139\n",
      "Epoch 38/1000 - Train Loss: 0.0883, Train IoU: 0.2643 - Val Loss: 1.4166, Val IoU: 0.1100\n",
      "Model saved to models\\UNet_56iaektu.pth with val_loss 1.4166\n",
      "Epoch 39/1000 - Train Loss: 0.0850, Train IoU: 0.2663 - Val Loss: 1.3507, Val IoU: 0.1142\n",
      "Model saved to models\\UNet_56iaektu.pth with val_loss 1.3507\n",
      "Epoch 40/1000 - Train Loss: 0.0834, Train IoU: 0.2679 - Val Loss: 1.3507, Val IoU: 0.1165\n",
      "Epoch 41/1000 - Train Loss: 0.0803, Train IoU: 0.2706 - Val Loss: 1.3774, Val IoU: 0.1176\n",
      "Epoch 42/1000 - Train Loss: 0.0790, Train IoU: 0.2724 - Val Loss: 1.3747, Val IoU: 0.1206\n",
      "Epoch 43/1000 - Train Loss: 0.0761, Train IoU: 0.2755 - Val Loss: 1.3466, Val IoU: 0.1243\n",
      "Model saved to models\\UNet_56iaektu.pth with val_loss 1.3466\n",
      "Epoch 44/1000 - Train Loss: 0.0746, Train IoU: 0.2781 - Val Loss: 1.3701, Val IoU: 0.1236\n",
      "Epoch 45/1000 - Train Loss: 0.0724, Train IoU: 0.2808 - Val Loss: 1.3930, Val IoU: 0.1239\n",
      "Epoch 46/1000 - Train Loss: 0.0707, Train IoU: 0.2826 - Val Loss: 1.4217, Val IoU: 0.1247\n",
      "Epoch 47/1000 - Train Loss: 0.0687, Train IoU: 0.2834 - Val Loss: 1.4185, Val IoU: 0.1270\n",
      "Epoch 48/1000 - Train Loss: 0.0670, Train IoU: 0.2853 - Val Loss: 1.4085, Val IoU: 0.1281\n",
      "Epoch 49/1000 - Train Loss: 0.0652, Train IoU: 0.2887 - Val Loss: 1.4040, Val IoU: 0.1293\n",
      "Epoch 50/1000 - Train Loss: 0.0637, Train IoU: 0.2907 - Val Loss: 1.4073, Val IoU: 0.1318\n",
      "Epoch 51/1000 - Train Loss: 0.0621, Train IoU: 0.2924 - Val Loss: 1.3953, Val IoU: 0.1352\n",
      "Epoch 52/1000 - Train Loss: 0.0606, Train IoU: 0.2950 - Val Loss: 1.3410, Val IoU: 0.1379\n",
      "Model saved to models\\UNet_56iaektu.pth with val_loss 1.3410\n",
      "Epoch 53/1000 - Train Loss: 0.0592, Train IoU: 0.2979 - Val Loss: 1.2933, Val IoU: 0.1409\n",
      "Model saved to models\\UNet_56iaektu.pth with val_loss 1.2933\n",
      "Epoch 54/1000 - Train Loss: 0.0580, Train IoU: 0.3185 - Val Loss: 1.2242, Val IoU: 0.1436\n",
      "Model saved to models\\UNet_56iaektu.pth with val_loss 1.2242\n",
      "Epoch 55/1000 - Train Loss: 0.0566, Train IoU: 0.3211 - Val Loss: 1.2186, Val IoU: 0.1485\n",
      "Model saved to models\\UNet_56iaektu.pth with val_loss 1.2186\n",
      "Epoch 56/1000 - Train Loss: 0.0557, Train IoU: 0.3231 - Val Loss: 1.0694, Val IoU: 0.1531\n",
      "Model saved to models\\UNet_56iaektu.pth with val_loss 1.0694\n",
      "Epoch 57/1000 - Train Loss: 0.0550, Train IoU: 0.3243 - Val Loss: 1.1047, Val IoU: 0.1600\n",
      "Epoch 58/1000 - Train Loss: 0.0559, Train IoU: 0.3281 - Val Loss: 0.8675, Val IoU: 0.1677\n",
      "Model saved to models\\UNet_56iaektu.pth with val_loss 0.8675\n",
      "Epoch 59/1000 - Train Loss: 0.0560, Train IoU: 0.3281 - Val Loss: 0.9670, Val IoU: 0.1755\n",
      "Epoch 60/1000 - Train Loss: 0.0566, Train IoU: 0.3314 - Val Loss: 0.6914, Val IoU: 0.1971\n",
      "Model saved to models\\UNet_56iaektu.pth with val_loss 0.6914\n",
      "Epoch 61/1000 - Train Loss: 0.0507, Train IoU: 0.3344 - Val Loss: 0.6150, Val IoU: 0.2064\n",
      "Model saved to models\\UNet_56iaektu.pth with val_loss 0.6150\n",
      "Epoch 62/1000 - Train Loss: 0.0504, Train IoU: 0.3370 - Val Loss: 0.6644, Val IoU: 0.2060\n",
      "Epoch 63/1000 - Train Loss: 0.0516, Train IoU: 0.3381 - Val Loss: 0.5036, Val IoU: 0.2292\n",
      "Model saved to models\\UNet_56iaektu.pth with val_loss 0.5036\n",
      "Epoch 64/1000 - Train Loss: 0.0466, Train IoU: 0.3430 - Val Loss: 0.3986, Val IoU: 0.2515\n",
      "Model saved to models\\UNet_56iaektu.pth with val_loss 0.3986\n",
      "Epoch 65/1000 - Train Loss: 0.0491, Train IoU: 0.3445 - Val Loss: 0.3719, Val IoU: 0.2540\n",
      "Model saved to models\\UNet_56iaektu.pth with val_loss 0.3719\n",
      "Epoch 66/1000 - Train Loss: 0.0464, Train IoU: 0.3700 - Val Loss: 0.3269, Val IoU: 0.2666\n",
      "Model saved to models\\UNet_56iaektu.pth with val_loss 0.3269\n",
      "Epoch 67/1000 - Train Loss: 0.0455, Train IoU: 0.3721 - Val Loss: 0.2689, Val IoU: 0.2879\n",
      "Model saved to models\\UNet_56iaektu.pth with val_loss 0.2689\n",
      "Epoch 68/1000 - Train Loss: 0.0446, Train IoU: 0.3745 - Val Loss: 0.2411, Val IoU: 0.2996\n",
      "Model saved to models\\UNet_56iaektu.pth with val_loss 0.2411\n",
      "Epoch 69/1000 - Train Loss: 0.0427, Train IoU: 0.3766 - Val Loss: 0.2395, Val IoU: 0.3028\n",
      "Model saved to models\\UNet_56iaektu.pth with val_loss 0.2395\n",
      "Epoch 70/1000 - Train Loss: 0.0424, Train IoU: 0.3781 - Val Loss: 0.2109, Val IoU: 0.3158\n",
      "Model saved to models\\UNet_56iaektu.pth with val_loss 0.2109\n",
      "Epoch 71/1000 - Train Loss: 0.0409, Train IoU: 0.3566 - Val Loss: 0.1770, Val IoU: 0.3295\n",
      "Model saved to models\\UNet_56iaektu.pth with val_loss 0.1770\n",
      "Epoch 72/1000 - Train Loss: 0.0405, Train IoU: 0.3825 - Val Loss: 0.1676, Val IoU: 0.3322\n",
      "Model saved to models\\UNet_56iaektu.pth with val_loss 0.1676\n",
      "Epoch 73/1000 - Train Loss: 0.0391, Train IoU: 0.3840 - Val Loss: 0.1467, Val IoU: 0.3393\n",
      "Model saved to models\\UNet_56iaektu.pth with val_loss 0.1467\n",
      "Epoch 74/1000 - Train Loss: 0.0385, Train IoU: 0.3856 - Val Loss: 0.1261, Val IoU: 0.3471\n",
      "Model saved to models\\UNet_56iaektu.pth with val_loss 0.1261\n",
      "Epoch 75/1000 - Train Loss: 0.0374, Train IoU: 0.3873 - Val Loss: 0.1239, Val IoU: 0.3515\n",
      "Model saved to models\\UNet_56iaektu.pth with val_loss 0.1239\n",
      "Epoch 76/1000 - Train Loss: 0.0368, Train IoU: 0.3885 - Val Loss: 0.1206, Val IoU: 0.3533\n",
      "Model saved to models\\UNet_56iaektu.pth with val_loss 0.1206\n",
      "Epoch 77/1000 - Train Loss: 0.0358, Train IoU: 0.3895 - Val Loss: 0.1060, Val IoU: 0.3582\n",
      "Model saved to models\\UNet_56iaektu.pth with val_loss 0.1060\n",
      "Epoch 78/1000 - Train Loss: 0.0351, Train IoU: 0.3904 - Val Loss: 0.0936, Val IoU: 0.3650\n",
      "Model saved to models\\UNet_56iaektu.pth with val_loss 0.0936\n",
      "Epoch 79/1000 - Train Loss: 0.0343, Train IoU: 0.3919 - Val Loss: 0.0918, Val IoU: 0.3686\n",
      "Model saved to models\\UNet_56iaektu.pth with val_loss 0.0918\n",
      "Epoch 80/1000 - Train Loss: 0.0337, Train IoU: 0.3928 - Val Loss: 0.0816, Val IoU: 0.3737\n",
      "Model saved to models\\UNet_56iaektu.pth with val_loss 0.0816\n",
      "Epoch 81/1000 - Train Loss: 0.0331, Train IoU: 0.3949 - Val Loss: 0.0842, Val IoU: 0.3710\n",
      "Epoch 82/1000 - Train Loss: 0.0329, Train IoU: 0.3946 - Val Loss: 0.0709, Val IoU: 0.3784\n",
      "Model saved to models\\UNet_56iaektu.pth with val_loss 0.0709\n",
      "Epoch 83/1000 - Train Loss: 0.0332, Train IoU: 0.3960 - Val Loss: 0.0913, Val IoU: 0.3704\n",
      "Epoch 84/1000 - Train Loss: 0.0375, Train IoU: 0.3918 - Val Loss: 0.0611, Val IoU: 0.3875\n",
      "Model saved to models\\UNet_56iaektu.pth with val_loss 0.0611\n",
      "Epoch 85/1000 - Train Loss: 0.0453, Train IoU: 0.3952 - Val Loss: 0.1062, Val IoU: 0.3620\n",
      "Epoch 86/1000 - Train Loss: 0.0537, Train IoU: 0.3853 - Val Loss: 0.0520, Val IoU: 0.3849\n",
      "Model saved to models\\UNet_56iaektu.pth with val_loss 0.0520\n",
      "Epoch 87/1000 - Train Loss: 0.0345, Train IoU: 0.3965 - Val Loss: 0.0521, Val IoU: 0.3902\n",
      "Epoch 88/1000 - Train Loss: 0.0423, Train IoU: 0.3966 - Val Loss: 0.0487, Val IoU: 0.3873\n",
      "Model saved to models\\UNet_56iaektu.pth with val_loss 0.0487\n",
      "Epoch 89/1000 - Train Loss: 0.0344, Train IoU: 0.3956 - Val Loss: 0.0584, Val IoU: 0.3819\n",
      "Epoch 90/1000 - Train Loss: 0.0368, Train IoU: 0.3942 - Val Loss: 0.0547, Val IoU: 0.3853\n",
      "Epoch 91/1000 - Train Loss: 0.0339, Train IoU: 0.3977 - Val Loss: 0.0449, Val IoU: 0.3913\n",
      "Model saved to models\\UNet_56iaektu.pth with val_loss 0.0449\n",
      "Epoch 92/1000 - Train Loss: 0.0322, Train IoU: 0.3997 - Val Loss: 0.0434, Val IoU: 0.3933\n",
      "Model saved to models\\UNet_56iaektu.pth with val_loss 0.0434\n",
      "Epoch 93/1000 - Train Loss: 0.0324, Train IoU: 0.4025 - Val Loss: 0.0410, Val IoU: 0.3933\n",
      "Model saved to models\\UNet_56iaektu.pth with val_loss 0.0410\n",
      "Epoch 94/1000 - Train Loss: 0.0311, Train IoU: 0.4017 - Val Loss: 0.0422, Val IoU: 0.3917\n",
      "Epoch 95/1000 - Train Loss: 0.0292, Train IoU: 0.4026 - Val Loss: 0.0470, Val IoU: 0.3931\n",
      "Epoch 96/1000 - Train Loss: 0.0295, Train IoU: 0.4042 - Val Loss: 0.0455, Val IoU: 0.3956\n",
      "Epoch 97/1000 - Train Loss: 0.0280, Train IoU: 0.4069 - Val Loss: 0.0414, Val IoU: 0.4009\n",
      "Epoch 98/1000 - Train Loss: 0.0272, Train IoU: 0.4120 - Val Loss: 0.0414, Val IoU: 0.4038\n",
      "Epoch 99/1000 - Train Loss: 0.0265, Train IoU: 0.4165 - Val Loss: 0.0414, Val IoU: 0.4046\n",
      "Epoch 100/1000 - Train Loss: 0.0260, Train IoU: 0.3925 - Val Loss: 0.0418, Val IoU: 0.4036\n",
      "Epoch 101/1000 - Train Loss: 0.0253, Train IoU: 0.3944 - Val Loss: 0.0411, Val IoU: 0.4076\n",
      "Epoch 102/1000 - Train Loss: 0.0242, Train IoU: 0.3970 - Val Loss: 0.0418, Val IoU: 0.4058\n",
      "Epoch 103/1000 - Train Loss: 0.0239, Train IoU: 0.4002 - Val Loss: 0.0417, Val IoU: 0.4074\n",
      "Epoch 104/1000 - Train Loss: 0.0235, Train IoU: 0.4015 - Val Loss: 0.0407, Val IoU: 0.4126\n",
      "Model saved to models\\UNet_56iaektu.pth with val_loss 0.0407\n",
      "Epoch 105/1000 - Train Loss: 0.0224, Train IoU: 0.4035 - Val Loss: 0.0398, Val IoU: 0.4176\n",
      "Model saved to models\\UNet_56iaektu.pth with val_loss 0.0398\n",
      "Epoch 106/1000 - Train Loss: 0.0220, Train IoU: 0.4068 - Val Loss: 0.0382, Val IoU: 0.4208\n",
      "Model saved to models\\UNet_56iaektu.pth with val_loss 0.0382\n",
      "Epoch 107/1000 - Train Loss: 0.0218, Train IoU: 0.4089 - Val Loss: 0.0366, Val IoU: 0.4252\n",
      "Model saved to models\\UNet_56iaektu.pth with val_loss 0.0366\n",
      "Epoch 108/1000 - Train Loss: 0.0212, Train IoU: 0.4101 - Val Loss: 0.0355, Val IoU: 0.4295\n",
      "Model saved to models\\UNet_56iaektu.pth with val_loss 0.0355\n",
      "Epoch 109/1000 - Train Loss: 0.0205, Train IoU: 0.4137 - Val Loss: 0.0348, Val IoU: 0.4300\n",
      "Model saved to models\\UNet_56iaektu.pth with val_loss 0.0348\n",
      "Epoch 110/1000 - Train Loss: 0.0201, Train IoU: 0.4154 - Val Loss: 0.0351, Val IoU: 0.4293\n",
      "Epoch 111/1000 - Train Loss: 0.0199, Train IoU: 0.4167 - Val Loss: 0.0356, Val IoU: 0.4316\n",
      "Epoch 112/1000 - Train Loss: 0.0193, Train IoU: 0.4188 - Val Loss: 0.0342, Val IoU: 0.4344\n",
      "Model saved to models\\UNet_56iaektu.pth with val_loss 0.0342\n",
      "Epoch 113/1000 - Train Loss: 0.0188, Train IoU: 0.4217 - Val Loss: 0.0317, Val IoU: 0.4381\n",
      "Model saved to models\\UNet_56iaektu.pth with val_loss 0.0317\n",
      "Epoch 114/1000 - Train Loss: 0.0185, Train IoU: 0.4224 - Val Loss: 0.0302, Val IoU: 0.4429\n",
      "Model saved to models\\UNet_56iaektu.pth with val_loss 0.0302\n",
      "Epoch 115/1000 - Train Loss: 0.0181, Train IoU: 0.4250 - Val Loss: 0.0295, Val IoU: 0.4452\n",
      "Model saved to models\\UNet_56iaektu.pth with val_loss 0.0295\n",
      "Epoch 116/1000 - Train Loss: 0.0177, Train IoU: 0.4272 - Val Loss: 0.0282, Val IoU: 0.4462\n",
      "Model saved to models\\UNet_56iaektu.pth with val_loss 0.0282\n",
      "Epoch 117/1000 - Train Loss: 0.0174, Train IoU: 0.4290 - Val Loss: 0.0272, Val IoU: 0.4471\n",
      "Model saved to models\\UNet_56iaektu.pth with val_loss 0.0272\n",
      "Epoch 118/1000 - Train Loss: 0.0170, Train IoU: 0.4307 - Val Loss: 0.0272, Val IoU: 0.4496\n",
      "Epoch 119/1000 - Train Loss: 0.0167, Train IoU: 0.4324 - Val Loss: 0.0272, Val IoU: 0.4515\n",
      "Epoch 120/1000 - Train Loss: 0.0163, Train IoU: 0.4349 - Val Loss: 0.0255, Val IoU: 0.4551\n",
      "Model saved to models\\UNet_56iaektu.pth with val_loss 0.0255\n",
      "Epoch 121/1000 - Train Loss: 0.0160, Train IoU: 0.4370 - Val Loss: 0.0237, Val IoU: 0.4582\n",
      "Model saved to models\\UNet_56iaektu.pth with val_loss 0.0237\n",
      "Epoch 122/1000 - Train Loss: 0.0157, Train IoU: 0.4398 - Val Loss: 0.0231, Val IoU: 0.4610\n",
      "Model saved to models\\UNet_56iaektu.pth with val_loss 0.0231\n",
      "Epoch 123/1000 - Train Loss: 0.0154, Train IoU: 0.4397 - Val Loss: 0.0232, Val IoU: 0.4633\n",
      "Epoch 124/1000 - Train Loss: 0.0151, Train IoU: 0.4416 - Val Loss: 0.0228, Val IoU: 0.4650\n",
      "Model saved to models\\UNet_56iaektu.pth with val_loss 0.0228\n",
      "Epoch 125/1000 - Train Loss: 0.0148, Train IoU: 0.4436 - Val Loss: 0.0220, Val IoU: 0.4681\n",
      "Model saved to models\\UNet_56iaektu.pth with val_loss 0.0220\n",
      "Epoch 126/1000 - Train Loss: 0.0145, Train IoU: 0.4460 - Val Loss: 0.0212, Val IoU: 0.4687\n",
      "Model saved to models\\UNet_56iaektu.pth with val_loss 0.0212\n",
      "Epoch 127/1000 - Train Loss: 0.0143, Train IoU: 0.4483 - Val Loss: 0.0207, Val IoU: 0.4691\n",
      "Model saved to models\\UNet_56iaektu.pth with val_loss 0.0207\n",
      "Epoch 128/1000 - Train Loss: 0.0140, Train IoU: 0.4498 - Val Loss: 0.0201, Val IoU: 0.4703\n",
      "Model saved to models\\UNet_56iaektu.pth with val_loss 0.0201\n",
      "Epoch 129/1000 - Train Loss: 0.0138, Train IoU: 0.4519 - Val Loss: 0.0198, Val IoU: 0.4707\n",
      "Model saved to models\\UNet_56iaektu.pth with val_loss 0.0198\n",
      "Epoch 130/1000 - Train Loss: 0.0135, Train IoU: 0.4528 - Val Loss: 0.0195, Val IoU: 0.4732\n",
      "Model saved to models\\UNet_56iaektu.pth with val_loss 0.0195\n",
      "Epoch 131/1000 - Train Loss: 0.0132, Train IoU: 0.4551 - Val Loss: 0.0192, Val IoU: 0.4764\n",
      "Model saved to models\\UNet_56iaektu.pth with val_loss 0.0192\n",
      "Epoch 132/1000 - Train Loss: 0.0130, Train IoU: 0.4571 - Val Loss: 0.0186, Val IoU: 0.4802\n",
      "Model saved to models\\UNet_56iaektu.pth with val_loss 0.0186\n",
      "Epoch 133/1000 - Train Loss: 0.0128, Train IoU: 0.4591 - Val Loss: 0.0180, Val IoU: 0.4823\n",
      "Model saved to models\\UNet_56iaektu.pth with val_loss 0.0180\n",
      "Epoch 134/1000 - Train Loss: 0.0126, Train IoU: 0.4601 - Val Loss: 0.0176, Val IoU: 0.4849\n",
      "Model saved to models\\UNet_56iaektu.pth with val_loss 0.0176\n",
      "Epoch 135/1000 - Train Loss: 0.0123, Train IoU: 0.4616 - Val Loss: 0.0173, Val IoU: 0.4862\n",
      "Model saved to models\\UNet_56iaektu.pth with val_loss 0.0173\n",
      "Epoch 136/1000 - Train Loss: 0.0121, Train IoU: 0.4633 - Val Loss: 0.0170, Val IoU: 0.4879\n",
      "Model saved to models\\UNet_56iaektu.pth with val_loss 0.0170\n",
      "Epoch 137/1000 - Train Loss: 0.0119, Train IoU: 0.4651 - Val Loss: 0.0165, Val IoU: 0.4905\n",
      "Model saved to models\\UNet_56iaektu.pth with val_loss 0.0165\n",
      "Epoch 138/1000 - Train Loss: 0.0117, Train IoU: 0.4668 - Val Loss: 0.0161, Val IoU: 0.4930\n",
      "Model saved to models\\UNet_56iaektu.pth with val_loss 0.0161\n",
      "Epoch 139/1000 - Train Loss: 0.0115, Train IoU: 0.5007 - Val Loss: 0.0156, Val IoU: 0.4951\n",
      "Model saved to models\\UNet_56iaektu.pth with val_loss 0.0156\n",
      "Epoch 140/1000 - Train Loss: 0.0113, Train IoU: 0.5022 - Val Loss: 0.0154, Val IoU: 0.4982\n",
      "Model saved to models\\UNet_56iaektu.pth with val_loss 0.0154\n",
      "Epoch 141/1000 - Train Loss: 0.0111, Train IoU: 0.5034 - Val Loss: 0.0152, Val IoU: 0.4990\n",
      "Model saved to models\\UNet_56iaektu.pth with val_loss 0.0152\n",
      "Epoch 142/1000 - Train Loss: 0.0109, Train IoU: 0.5052 - Val Loss: 0.0149, Val IoU: 0.5004\n",
      "Model saved to models\\UNet_56iaektu.pth with val_loss 0.0149\n",
      "Epoch 143/1000 - Train Loss: 0.0107, Train IoU: 0.5069 - Val Loss: 0.0145, Val IoU: 0.5023\n",
      "Model saved to models\\UNet_56iaektu.pth with val_loss 0.0145\n",
      "Epoch 144/1000 - Train Loss: 0.0106, Train IoU: 0.5077 - Val Loss: 0.0141, Val IoU: 0.5041\n",
      "Model saved to models\\UNet_56iaektu.pth with val_loss 0.0141\n",
      "Epoch 145/1000 - Train Loss: 0.0104, Train IoU: 0.5093 - Val Loss: 0.0138, Val IoU: 0.5059\n",
      "Model saved to models\\UNet_56iaektu.pth with val_loss 0.0138\n",
      "Epoch 146/1000 - Train Loss: 0.0102, Train IoU: 0.5109 - Val Loss: 0.0136, Val IoU: 0.5079\n",
      "Model saved to models\\UNet_56iaektu.pth with val_loss 0.0136\n",
      "Epoch 147/1000 - Train Loss: 0.0101, Train IoU: 0.5128 - Val Loss: 0.0133, Val IoU: 0.5095\n",
      "Model saved to models\\UNet_56iaektu.pth with val_loss 0.0133\n",
      "Epoch 148/1000 - Train Loss: 0.0099, Train IoU: 0.5143 - Val Loss: 0.0131, Val IoU: 0.5109\n",
      "Model saved to models\\UNet_56iaektu.pth with val_loss 0.0131\n",
      "Epoch 149/1000 - Train Loss: 0.0097, Train IoU: 0.5160 - Val Loss: 0.0128, Val IoU: 0.5132\n",
      "Model saved to models\\UNet_56iaektu.pth with val_loss 0.0128\n",
      "Epoch 150/1000 - Train Loss: 0.0096, Train IoU: 0.5173 - Val Loss: 0.0126, Val IoU: 0.5160\n",
      "Model saved to models\\UNet_56iaektu.pth with val_loss 0.0126\n",
      "Epoch 151/1000 - Train Loss: 0.0094, Train IoU: 0.5187 - Val Loss: 0.0123, Val IoU: 0.5170\n",
      "Model saved to models\\UNet_56iaektu.pth with val_loss 0.0123\n",
      "Epoch 152/1000 - Train Loss: 0.0093, Train IoU: 0.5194 - Val Loss: 0.0121, Val IoU: 0.5199\n",
      "Model saved to models\\UNet_56iaektu.pth with val_loss 0.0121\n",
      "Epoch 153/1000 - Train Loss: 0.0091, Train IoU: 0.5225 - Val Loss: 0.0119, Val IoU: 0.5215\n",
      "Model saved to models\\UNet_56iaektu.pth with val_loss 0.0119\n",
      "Epoch 154/1000 - Train Loss: 0.0090, Train IoU: 0.5233 - Val Loss: 0.0118, Val IoU: 0.5228\n",
      "Model saved to models\\UNet_56iaektu.pth with val_loss 0.0118\n",
      "Epoch 155/1000 - Train Loss: 0.0088, Train IoU: 0.5243 - Val Loss: 0.0116, Val IoU: 0.5231\n",
      "Model saved to models\\UNet_56iaektu.pth with val_loss 0.0116\n",
      "Epoch 156/1000 - Train Loss: 0.0087, Train IoU: 0.5264 - Val Loss: 0.0113, Val IoU: 0.5253\n",
      "Model saved to models\\UNet_56iaektu.pth with val_loss 0.0113\n",
      "Epoch 157/1000 - Train Loss: 0.0086, Train IoU: 0.5285 - Val Loss: 0.0111, Val IoU: 0.5260\n",
      "Model saved to models\\UNet_56iaektu.pth with val_loss 0.0111\n",
      "Epoch 158/1000 - Train Loss: 0.0084, Train IoU: 0.5308 - Val Loss: 0.0110, Val IoU: 0.5285\n",
      "Model saved to models\\UNet_56iaektu.pth with val_loss 0.0110\n",
      "Epoch 159/1000 - Train Loss: 0.0083, Train IoU: 0.5335 - Val Loss: 0.0108, Val IoU: 0.5312\n",
      "Model saved to models\\UNet_56iaektu.pth with val_loss 0.0108\n",
      "Epoch 160/1000 - Train Loss: 0.0082, Train IoU: 0.5361 - Val Loss: 0.0107, Val IoU: 0.5320\n",
      "Model saved to models\\UNet_56iaektu.pth with val_loss 0.0107\n",
      "Epoch 161/1000 - Train Loss: 0.0080, Train IoU: 0.5380 - Val Loss: 0.0105, Val IoU: 0.5334\n",
      "Model saved to models\\UNet_56iaektu.pth with val_loss 0.0105\n",
      "Epoch 162/1000 - Train Loss: 0.0079, Train IoU: 0.5404 - Val Loss: 0.0103, Val IoU: 0.5365\n",
      "Model saved to models\\UNet_56iaektu.pth with val_loss 0.0103\n",
      "Epoch 163/1000 - Train Loss: 0.0078, Train IoU: 0.5418 - Val Loss: 0.0102, Val IoU: 0.5391\n",
      "Model saved to models\\UNet_56iaektu.pth with val_loss 0.0102\n",
      "Epoch 164/1000 - Train Loss: 0.0077, Train IoU: 0.5431 - Val Loss: 0.0100, Val IoU: 0.5421\n",
      "Model saved to models\\UNet_56iaektu.pth with val_loss 0.0100\n",
      "Epoch 165/1000 - Train Loss: 0.0076, Train IoU: 0.5460 - Val Loss: 0.0098, Val IoU: 0.5434\n",
      "Model saved to models\\UNet_56iaektu.pth with val_loss 0.0098\n",
      "Epoch 166/1000 - Train Loss: 0.0074, Train IoU: 0.5132 - Val Loss: 0.0096, Val IoU: 0.5448\n",
      "Model saved to models\\UNet_56iaektu.pth with val_loss 0.0096\n",
      "Epoch 167/1000 - Train Loss: 0.0073, Train IoU: 0.5158 - Val Loss: 0.0095, Val IoU: 0.5474\n",
      "Model saved to models\\UNet_56iaektu.pth with val_loss 0.0095\n",
      "Epoch 168/1000 - Train Loss: 0.0072, Train IoU: 0.5167 - Val Loss: 0.0093, Val IoU: 0.5501\n",
      "Model saved to models\\UNet_56iaektu.pth with val_loss 0.0093\n",
      "Epoch 169/1000 - Train Loss: 0.0071, Train IoU: 0.5186 - Val Loss: 0.0092, Val IoU: 0.5520\n",
      "Model saved to models\\UNet_56iaektu.pth with val_loss 0.0092\n",
      "Epoch 170/1000 - Train Loss: 0.0070, Train IoU: 0.5195 - Val Loss: 0.0090, Val IoU: 0.5533\n",
      "Model saved to models\\UNet_56iaektu.pth with val_loss 0.0090\n",
      "Epoch 171/1000 - Train Loss: 0.0069, Train IoU: 0.5204 - Val Loss: 0.0089, Val IoU: 0.5545\n",
      "Model saved to models\\UNet_56iaektu.pth with val_loss 0.0089\n",
      "Epoch 172/1000 - Train Loss: 0.0068, Train IoU: 0.5225 - Val Loss: 0.0088, Val IoU: 0.5556\n",
      "Model saved to models\\UNet_56iaektu.pth with val_loss 0.0088\n",
      "Epoch 173/1000 - Train Loss: 0.0067, Train IoU: 0.5239 - Val Loss: 0.0086, Val IoU: 0.5578\n",
      "Model saved to models\\UNet_56iaektu.pth with val_loss 0.0086\n",
      "Epoch 174/1000 - Train Loss: 0.0066, Train IoU: 0.5260 - Val Loss: 0.0085, Val IoU: 0.5617\n",
      "Model saved to models\\UNet_56iaektu.pth with val_loss 0.0085\n",
      "Epoch 175/1000 - Train Loss: 0.0065, Train IoU: 0.5275 - Val Loss: 0.0083, Val IoU: 0.5636\n",
      "Model saved to models\\UNet_56iaektu.pth with val_loss 0.0083\n",
      "Epoch 176/1000 - Train Loss: 0.0064, Train IoU: 0.5289 - Val Loss: 0.0082, Val IoU: 0.5653\n",
      "Model saved to models\\UNet_56iaektu.pth with val_loss 0.0082\n",
      "Epoch 177/1000 - Train Loss: 0.0063, Train IoU: 0.5316 - Val Loss: 0.0080, Val IoU: 0.5665\n",
      "Model saved to models\\UNet_56iaektu.pth with val_loss 0.0080\n",
      "Epoch 178/1000 - Train Loss: 0.0062, Train IoU: 0.5343 - Val Loss: 0.0079, Val IoU: 0.5699\n",
      "Model saved to models\\UNet_56iaektu.pth with val_loss 0.0079\n",
      "Epoch 179/1000 - Train Loss: 0.0062, Train IoU: 0.5346 - Val Loss: 0.0077, Val IoU: 0.5706\n",
      "Model saved to models\\UNet_56iaektu.pth with val_loss 0.0077\n",
      "Epoch 180/1000 - Train Loss: 0.0061, Train IoU: 0.5361 - Val Loss: 0.0076, Val IoU: 0.5715\n",
      "Model saved to models\\UNet_56iaektu.pth with val_loss 0.0076\n",
      "Epoch 181/1000 - Train Loss: 0.0060, Train IoU: 0.5381 - Val Loss: 0.0075, Val IoU: 0.5726\n",
      "Model saved to models\\UNet_56iaektu.pth with val_loss 0.0075\n",
      "Epoch 182/1000 - Train Loss: 0.0059, Train IoU: 0.5400 - Val Loss: 0.0074, Val IoU: 0.5743\n",
      "Model saved to models\\UNet_56iaektu.pth with val_loss 0.0074\n",
      "Epoch 183/1000 - Train Loss: 0.0058, Train IoU: 0.5413 - Val Loss: 0.0073, Val IoU: 0.5766\n",
      "Model saved to models\\UNet_56iaektu.pth with val_loss 0.0073\n",
      "Epoch 184/1000 - Train Loss: 0.0057, Train IoU: 0.5430 - Val Loss: 0.0072, Val IoU: 0.5773\n",
      "Model saved to models\\UNet_56iaektu.pth with val_loss 0.0072\n",
      "Epoch 185/1000 - Train Loss: 0.0057, Train IoU: 0.5436 - Val Loss: 0.0070, Val IoU: 0.5794\n",
      "Model saved to models\\UNet_56iaektu.pth with val_loss 0.0070\n",
      "Epoch 186/1000 - Train Loss: 0.0056, Train IoU: 0.5443 - Val Loss: 0.0069, Val IoU: 0.5812\n",
      "Model saved to models\\UNet_56iaektu.pth with val_loss 0.0069\n",
      "Epoch 187/1000 - Train Loss: 0.0055, Train IoU: 0.5455 - Val Loss: 0.0068, Val IoU: 0.5829\n",
      "Model saved to models\\UNet_56iaektu.pth with val_loss 0.0068\n",
      "Epoch 188/1000 - Train Loss: 0.0054, Train IoU: 0.5476 - Val Loss: 0.0067, Val IoU: 0.5838\n",
      "Model saved to models\\UNet_56iaektu.pth with val_loss 0.0067\n",
      "Epoch 189/1000 - Train Loss: 0.0054, Train IoU: 0.5491 - Val Loss: 0.0066, Val IoU: 0.5853\n",
      "Model saved to models\\UNet_56iaektu.pth with val_loss 0.0066\n",
      "Epoch 190/1000 - Train Loss: 0.0053, Train IoU: 0.5502 - Val Loss: 0.0065, Val IoU: 0.5867\n",
      "Model saved to models\\UNet_56iaektu.pth with val_loss 0.0065\n",
      "Epoch 191/1000 - Train Loss: 0.0052, Train IoU: 0.5533 - Val Loss: 0.0064, Val IoU: 0.5876\n",
      "Model saved to models\\UNet_56iaektu.pth with val_loss 0.0064\n",
      "Epoch 192/1000 - Train Loss: 0.0052, Train IoU: 0.5557 - Val Loss: 0.0063, Val IoU: 0.5883\n",
      "Model saved to models\\UNet_56iaektu.pth with val_loss 0.0063\n",
      "Epoch 193/1000 - Train Loss: 0.0051, Train IoU: 0.5563 - Val Loss: 0.0062, Val IoU: 0.5917\n",
      "Model saved to models\\UNet_56iaektu.pth with val_loss 0.0062\n",
      "Epoch 194/1000 - Train Loss: 0.0050, Train IoU: 0.5590 - Val Loss: 0.0061, Val IoU: 0.5922\n",
      "Model saved to models\\UNet_56iaektu.pth with val_loss 0.0061\n",
      "Epoch 195/1000 - Train Loss: 0.0050, Train IoU: 0.5611 - Val Loss: 0.0061, Val IoU: 0.5577\n",
      "Model saved to models\\UNet_56iaektu.pth with val_loss 0.0061\n",
      "Epoch 196/1000 - Train Loss: 0.0049, Train IoU: 0.5630 - Val Loss: 0.0060, Val IoU: 0.5591\n",
      "Model saved to models\\UNet_56iaektu.pth with val_loss 0.0060\n",
      "Epoch 197/1000 - Train Loss: 0.0048, Train IoU: 0.5633 - Val Loss: 0.0059, Val IoU: 0.5610\n",
      "Model saved to models\\UNet_56iaektu.pth with val_loss 0.0059\n",
      "Epoch 198/1000 - Train Loss: 0.0048, Train IoU: 0.5658 - Val Loss: 0.0058, Val IoU: 0.5619\n",
      "Model saved to models\\UNet_56iaektu.pth with val_loss 0.0058\n",
      "Epoch 199/1000 - Train Loss: 0.0047, Train IoU: 0.5666 - Val Loss: 0.0057, Val IoU: 0.5647\n",
      "Model saved to models\\UNet_56iaektu.pth with val_loss 0.0057\n",
      "Epoch 200/1000 - Train Loss: 0.0047, Train IoU: 0.5690 - Val Loss: 0.0056, Val IoU: 0.5665\n",
      "Model saved to models\\UNet_56iaektu.pth with val_loss 0.0056\n",
      "Epoch 201/1000 - Train Loss: 0.0046, Train IoU: 0.5703 - Val Loss: 0.0055, Val IoU: 0.5679\n",
      "Model saved to models\\UNet_56iaektu.pth with val_loss 0.0055\n",
      "Epoch 202/1000 - Train Loss: 0.0045, Train IoU: 0.5712 - Val Loss: 0.0054, Val IoU: 0.5698\n",
      "Model saved to models\\UNet_56iaektu.pth with val_loss 0.0054\n",
      "Epoch 203/1000 - Train Loss: 0.0045, Train IoU: 0.5745 - Val Loss: 0.0054, Val IoU: 0.5716\n",
      "Model saved to models\\UNet_56iaektu.pth with val_loss 0.0054\n",
      "Epoch 204/1000 - Train Loss: 0.0044, Train IoU: 0.5757 - Val Loss: 0.0053, Val IoU: 0.5732\n",
      "Model saved to models\\UNet_56iaektu.pth with val_loss 0.0053\n",
      "Epoch 205/1000 - Train Loss: 0.0044, Train IoU: 0.5778 - Val Loss: 0.0052, Val IoU: 0.5754\n",
      "Model saved to models\\UNet_56iaektu.pth with val_loss 0.0052\n",
      "Epoch 206/1000 - Train Loss: 0.0043, Train IoU: 0.5783 - Val Loss: 0.0051, Val IoU: 0.5774\n",
      "Model saved to models\\UNet_56iaektu.pth with val_loss 0.0051\n",
      "Epoch 207/1000 - Train Loss: 0.0043, Train IoU: 0.5800 - Val Loss: 0.0051, Val IoU: 0.5789\n",
      "Model saved to models\\UNet_56iaektu.pth with val_loss 0.0051\n",
      "Epoch 208/1000 - Train Loss: 0.0042, Train IoU: 0.5816 - Val Loss: 0.0050, Val IoU: 0.5793\n",
      "Model saved to models\\UNet_56iaektu.pth with val_loss 0.0050\n",
      "Epoch 209/1000 - Train Loss: 0.0042, Train IoU: 0.5844 - Val Loss: 0.0049, Val IoU: 0.5824\n",
      "Model saved to models\\UNet_56iaektu.pth with val_loss 0.0049\n",
      "Epoch 210/1000 - Train Loss: 0.0041, Train IoU: 0.5858 - Val Loss: 0.0048, Val IoU: 0.5835\n",
      "Model saved to models\\UNet_56iaektu.pth with val_loss 0.0048\n",
      "Epoch 211/1000 - Train Loss: 0.0041, Train IoU: 0.5859 - Val Loss: 0.0048, Val IoU: 0.5847\n",
      "Model saved to models\\UNet_56iaektu.pth with val_loss 0.0048\n",
      "Epoch 212/1000 - Train Loss: 0.0040, Train IoU: 0.5874 - Val Loss: 0.0047, Val IoU: 0.5859\n",
      "Model saved to models\\UNet_56iaektu.pth with val_loss 0.0047\n",
      "Epoch 213/1000 - Train Loss: 0.0040, Train IoU: 0.5902 - Val Loss: 0.0047, Val IoU: 0.5863\n",
      "Model saved to models\\UNet_56iaektu.pth with val_loss 0.0047\n",
      "Epoch 214/1000 - Train Loss: 0.0039, Train IoU: 0.5925 - Val Loss: 0.0046, Val IoU: 0.5881\n",
      "Model saved to models\\UNet_56iaektu.pth with val_loss 0.0046\n",
      "Epoch 215/1000 - Train Loss: 0.0039, Train IoU: 0.5927 - Val Loss: 0.0045, Val IoU: 0.5903\n",
      "Model saved to models\\UNet_56iaektu.pth with val_loss 0.0045\n",
      "Epoch 216/1000 - Train Loss: 0.0039, Train IoU: 0.5949 - Val Loss: 0.0045, Val IoU: 0.5927\n",
      "Model saved to models\\UNet_56iaektu.pth with val_loss 0.0045\n",
      "Epoch 217/1000 - Train Loss: 0.0038, Train IoU: 0.5964 - Val Loss: 0.0044, Val IoU: 0.5940\n",
      "Model saved to models\\UNet_56iaektu.pth with val_loss 0.0044\n",
      "Epoch 218/1000 - Train Loss: 0.0038, Train IoU: 0.5980 - Val Loss: 0.0043, Val IoU: 0.5953\n",
      "Model saved to models\\UNet_56iaektu.pth with val_loss 0.0043\n",
      "Epoch 219/1000 - Train Loss: 0.0037, Train IoU: 0.5986 - Val Loss: 0.0043, Val IoU: 0.5963\n",
      "Model saved to models\\UNet_56iaektu.pth with val_loss 0.0043\n",
      "Epoch 220/1000 - Train Loss: 0.0037, Train IoU: 0.5993 - Val Loss: 0.0042, Val IoU: 0.5976\n",
      "Model saved to models\\UNet_56iaektu.pth with val_loss 0.0042\n",
      "Epoch 221/1000 - Train Loss: 0.0036, Train IoU: 0.5995 - Val Loss: 0.0042, Val IoU: 0.5987\n",
      "Model saved to models\\UNet_56iaektu.pth with val_loss 0.0042\n",
      "Epoch 222/1000 - Train Loss: 0.0036, Train IoU: 0.6006 - Val Loss: 0.0041, Val IoU: 0.5991\n",
      "Model saved to models\\UNet_56iaektu.pth with val_loss 0.0041\n",
      "Epoch 223/1000 - Train Loss: 0.0036, Train IoU: 0.6023 - Val Loss: 0.0041, Val IoU: 0.5998\n",
      "Model saved to models\\UNet_56iaektu.pth with val_loss 0.0041\n",
      "Epoch 224/1000 - Train Loss: 0.0035, Train IoU: 0.6028 - Val Loss: 0.0040, Val IoU: 0.6004\n",
      "Model saved to models\\UNet_56iaektu.pth with val_loss 0.0040\n",
      "Epoch 225/1000 - Train Loss: 0.0035, Train IoU: 0.6038 - Val Loss: 0.0040, Val IoU: 0.6006\n",
      "Model saved to models\\UNet_56iaektu.pth with val_loss 0.0040\n",
      "Epoch 226/1000 - Train Loss: 0.0034, Train IoU: 0.6045 - Val Loss: 0.0039, Val IoU: 0.6017\n",
      "Model saved to models\\UNet_56iaektu.pth with val_loss 0.0039\n",
      "Epoch 227/1000 - Train Loss: 0.0034, Train IoU: 0.6053 - Val Loss: 0.0039, Val IoU: 0.6040\n",
      "Model saved to models\\UNet_56iaektu.pth with val_loss 0.0039\n",
      "Epoch 228/1000 - Train Loss: 0.0034, Train IoU: 0.6082 - Val Loss: 0.0038, Val IoU: 0.6055\n",
      "Model saved to models\\UNet_56iaektu.pth with val_loss 0.0038\n",
      "Epoch 229/1000 - Train Loss: 0.0033, Train IoU: 0.6102 - Val Loss: 0.0038, Val IoU: 0.6061\n",
      "Model saved to models\\UNet_56iaektu.pth with val_loss 0.0038\n",
      "Epoch 230/1000 - Train Loss: 0.0033, Train IoU: 0.6116 - Val Loss: 0.0037, Val IoU: 0.6079\n",
      "Model saved to models\\UNet_56iaektu.pth with val_loss 0.0037\n",
      "Epoch 231/1000 - Train Loss: 0.0033, Train IoU: 0.6127 - Val Loss: 0.0037, Val IoU: 0.6096\n",
      "Model saved to models\\UNet_56iaektu.pth with val_loss 0.0037\n",
      "Epoch 232/1000 - Train Loss: 0.0032, Train IoU: 0.6138 - Val Loss: 0.0036, Val IoU: 0.6116\n",
      "Model saved to models\\UNet_56iaektu.pth with val_loss 0.0036\n",
      "Epoch 233/1000 - Train Loss: 0.0032, Train IoU: 0.6172 - Val Loss: 0.0036, Val IoU: 0.6114\n",
      "Model saved to models\\UNet_56iaektu.pth with val_loss 0.0036\n",
      "Epoch 234/1000 - Train Loss: 0.0032, Train IoU: 0.6175 - Val Loss: 0.0035, Val IoU: 0.6132\n",
      "Model saved to models\\UNet_56iaektu.pth with val_loss 0.0035\n",
      "Epoch 235/1000 - Train Loss: 0.0031, Train IoU: 0.6179 - Val Loss: 0.0035, Val IoU: 0.6165\n",
      "Model saved to models\\UNet_56iaektu.pth with val_loss 0.0035\n",
      "Epoch 236/1000 - Train Loss: 0.0031, Train IoU: 0.6188 - Val Loss: 0.0035, Val IoU: 0.6174\n",
      "Model saved to models\\UNet_56iaektu.pth with val_loss 0.0035\n",
      "Epoch 237/1000 - Train Loss: 0.0031, Train IoU: 0.6196 - Val Loss: 0.0034, Val IoU: 0.6181\n",
      "Model saved to models\\UNet_56iaektu.pth with val_loss 0.0034\n",
      "Epoch 238/1000 - Train Loss: 0.0030, Train IoU: 0.6200 - Val Loss: 0.0034, Val IoU: 0.6226\n",
      "Model saved to models\\UNet_56iaektu.pth with val_loss 0.0034\n",
      "Epoch 239/1000 - Train Loss: 0.0030, Train IoU: 0.6208 - Val Loss: 0.0033, Val IoU: 0.6240\n",
      "Model saved to models\\UNet_56iaektu.pth with val_loss 0.0033\n",
      "Epoch 240/1000 - Train Loss: 0.0030, Train IoU: 0.6251 - Val Loss: 0.0033, Val IoU: 0.6252\n",
      "Model saved to models\\UNet_56iaektu.pth with val_loss 0.0033\n",
      "Epoch 241/1000 - Train Loss: 0.0029, Train IoU: 0.6265 - Val Loss: 0.0033, Val IoU: 0.6259\n",
      "Model saved to models\\UNet_56iaektu.pth with val_loss 0.0033\n",
      "Epoch 242/1000 - Train Loss: 0.0029, Train IoU: 0.6289 - Val Loss: 0.0032, Val IoU: 0.6276\n",
      "Model saved to models\\UNet_56iaektu.pth with val_loss 0.0032\n",
      "Epoch 243/1000 - Train Loss: 0.0029, Train IoU: 0.6301 - Val Loss: 0.0032, Val IoU: 0.6291\n",
      "Model saved to models\\UNet_56iaektu.pth with val_loss 0.0032\n",
      "Epoch 244/1000 - Train Loss: 0.0028, Train IoU: 0.6315 - Val Loss: 0.0032, Val IoU: 0.6306\n",
      "Model saved to models\\UNet_56iaektu.pth with val_loss 0.0032\n",
      "Epoch 245/1000 - Train Loss: 0.0028, Train IoU: 0.6326 - Val Loss: 0.0031, Val IoU: 0.6320\n",
      "Model saved to models\\UNet_56iaektu.pth with val_loss 0.0031\n",
      "Epoch 246/1000 - Train Loss: 0.0028, Train IoU: 0.6330 - Val Loss: 0.0031, Val IoU: 0.6335\n",
      "Model saved to models\\UNet_56iaektu.pth with val_loss 0.0031\n",
      "Epoch 247/1000 - Train Loss: 0.0028, Train IoU: 0.6349 - Val Loss: 0.0031, Val IoU: 0.6336\n",
      "Model saved to models\\UNet_56iaektu.pth with val_loss 0.0031\n",
      "Epoch 248/1000 - Train Loss: 0.0027, Train IoU: 0.6364 - Val Loss: 0.0030, Val IoU: 0.6342\n",
      "Model saved to models\\UNet_56iaektu.pth with val_loss 0.0030\n",
      "Epoch 249/1000 - Train Loss: 0.0027, Train IoU: 0.6381 - Val Loss: 0.0030, Val IoU: 0.6349\n",
      "Model saved to models\\UNet_56iaektu.pth with val_loss 0.0030\n",
      "Epoch 250/1000 - Train Loss: 0.0027, Train IoU: 0.6388 - Val Loss: 0.0030, Val IoU: 0.6358\n",
      "Model saved to models\\UNet_56iaektu.pth with val_loss 0.0030\n",
      "Epoch 251/1000 - Train Loss: 0.0026, Train IoU: 0.6398 - Val Loss: 0.0029, Val IoU: 0.6369\n",
      "Model saved to models\\UNet_56iaektu.pth with val_loss 0.0029\n",
      "Epoch 252/1000 - Train Loss: 0.0026, Train IoU: 0.6406 - Val Loss: 0.0029, Val IoU: 0.6378\n",
      "Model saved to models\\UNet_56iaektu.pth with val_loss 0.0029\n",
      "Epoch 253/1000 - Train Loss: 0.0026, Train IoU: 0.6423 - Val Loss: 0.0029, Val IoU: 0.6384\n"
     ]
    },
    {
     "ename": "KeyboardInterrupt",
     "evalue": "",
     "output_type": "error",
     "traceback": [
      "\u001b[1;31m---------------------------------------------------------------------------\u001b[0m",
      "\u001b[1;31mKeyboardInterrupt\u001b[0m                         Traceback (most recent call last)",
      "Cell \u001b[1;32mIn[15], line 23\u001b[0m\n\u001b[0;32m     11\u001b[0m criterion \u001b[38;5;241m=\u001b[39m nn\u001b[38;5;241m.\u001b[39mCrossEntropyLoss(ignore_index\u001b[38;5;241m=\u001b[39m\u001b[38;5;241m255\u001b[39m, weight\u001b[38;5;241m=\u001b[39mclass_weights)\u001b[38;5;66;03m#ignore_index=255, weight=class_weights)\u001b[39;00m\n\u001b[0;32m     12\u001b[0m optimizer \u001b[38;5;241m=\u001b[39m optim\u001b[38;5;241m.\u001b[39mAdam(model\u001b[38;5;241m.\u001b[39mparameters(), lr\u001b[38;5;241m=\u001b[39m\u001b[38;5;241m1e-3\u001b[39m)\n\u001b[0;32m     14\u001b[0m \u001b[43mTrainer\u001b[49m\u001b[43m(\u001b[49m\u001b[43mmodel\u001b[49m\u001b[43m,\u001b[49m\u001b[43m \u001b[49m\n\u001b[0;32m     15\u001b[0m \u001b[43m        \u001b[49m\u001b[43mcriterion\u001b[49m\u001b[43m,\u001b[49m\u001b[43m \u001b[49m\n\u001b[0;32m     16\u001b[0m \u001b[43m        \u001b[49m\u001b[43moptimizer\u001b[49m\u001b[43m,\u001b[49m\u001b[43m \u001b[49m\n\u001b[0;32m     17\u001b[0m \u001b[43m        \u001b[49m\u001b[43mlr\u001b[49m\u001b[38;5;241;43m=\u001b[39;49m\u001b[38;5;241;43m1e-3\u001b[39;49m\u001b[43m,\u001b[49m\u001b[43m \u001b[49m\n\u001b[0;32m     18\u001b[0m \u001b[43m        \u001b[49m\u001b[43mepochs\u001b[49m\u001b[38;5;241;43m=\u001b[39;49m\u001b[38;5;241;43m1000\u001b[39;49m\u001b[43m,\u001b[49m\u001b[43m \u001b[49m\n\u001b[0;32m     19\u001b[0m \u001b[43m        \u001b[49m\u001b[43mweight_init\u001b[49m\u001b[38;5;241;43m=\u001b[39;49m\u001b[38;5;28;43;01mNone\u001b[39;49;00m\u001b[43m,\u001b[49m\u001b[43m \u001b[49m\n\u001b[0;32m     20\u001b[0m \u001b[43m        \u001b[49m\u001b[43mseed\u001b[49m\u001b[38;5;241;43m=\u001b[39;49m\u001b[43mRANDOM_SEED\u001b[49m\u001b[43m,\u001b[49m\u001b[43m \u001b[49m\n\u001b[0;32m     21\u001b[0m \u001b[43m        \u001b[49m\u001b[43mdevice\u001b[49m\u001b[38;5;241;43m=\u001b[39;49m\u001b[43mdevice\u001b[49m\u001b[43m,\u001b[49m\u001b[43m \u001b[49m\n\u001b[0;32m     22\u001b[0m \u001b[43m        \u001b[49m\u001b[43mverbose\u001b[49m\u001b[38;5;241;43m=\u001b[39;49m\u001b[38;5;28;43;01mTrue\u001b[39;49;00m\u001b[43m,\u001b[49m\u001b[43m \u001b[49m\n\u001b[1;32m---> 23\u001b[0m \u001b[43m        \u001b[49m\u001b[43mrun_name\u001b[49m\u001b[38;5;241;43m=\u001b[39;49m\u001b[38;5;124;43m\"\u001b[39;49m\u001b[38;5;124;43munet_mini\u001b[39;49m\u001b[38;5;124;43m\"\u001b[39;49m\u001b[43m)\u001b[49m\u001b[38;5;241;43m.\u001b[39;49m\u001b[43mrun\u001b[49m\u001b[43m(\u001b[49m\u001b[43moverfit_datalader\u001b[49m\u001b[43m,\u001b[49m\u001b[43m \u001b[49m\n\u001b[0;32m     24\u001b[0m \u001b[43m                                  \u001b[49m\u001b[43moverfit_datalader\u001b[49m\u001b[43m)\u001b[49m\n",
      "File \u001b[1;32mc:\\Users\\fahrn\\Documents\\Classes\\dlbs\\fhnw-ds-dlbs\\trainer.py:143\u001b[0m, in \u001b[0;36mTrainer.run\u001b[1;34m(self, train_loader, val_loader)\u001b[0m\n\u001b[0;32m    134\u001b[0m wandb\u001b[38;5;241m.\u001b[39mlog({\n\u001b[0;32m    135\u001b[0m     \u001b[38;5;124m\"\u001b[39m\u001b[38;5;124mepoch\u001b[39m\u001b[38;5;124m\"\u001b[39m: epoch\u001b[38;5;241m+\u001b[39m\u001b[38;5;241m1\u001b[39m,\n\u001b[0;32m    136\u001b[0m     \u001b[38;5;124m\"\u001b[39m\u001b[38;5;124mtrain_loss\u001b[39m\u001b[38;5;124m\"\u001b[39m: train_loss,\n\u001b[1;32m   (...)\u001b[0m\n\u001b[0;32m    139\u001b[0m     \u001b[38;5;124m\"\u001b[39m\u001b[38;5;124mval_iou\u001b[39m\u001b[38;5;124m\"\u001b[39m: val_iou\n\u001b[0;32m    140\u001b[0m })\n\u001b[0;32m    142\u001b[0m \u001b[38;5;66;03m# Save the model if it's the best one so far\u001b[39;00m\n\u001b[1;32m--> 143\u001b[0m \u001b[38;5;28;43mself\u001b[39;49m\u001b[38;5;241;43m.\u001b[39;49m\u001b[43m_save_model\u001b[49m\u001b[43m(\u001b[49m\u001b[43mval_loss\u001b[49m\u001b[43m)\u001b[49m\n",
      "File \u001b[1;32mc:\\Users\\fahrn\\Documents\\Classes\\dlbs\\fhnw-ds-dlbs\\trainer.py:57\u001b[0m, in \u001b[0;36mTrainer._save_model\u001b[1;34m(self, val_loss)\u001b[0m\n\u001b[0;32m     54\u001b[0m model_name \u001b[38;5;241m=\u001b[39m \u001b[38;5;124mf\u001b[39m\u001b[38;5;124m\"\u001b[39m\u001b[38;5;132;01m{\u001b[39;00m\u001b[38;5;28mself\u001b[39m\u001b[38;5;241m.\u001b[39mmodel\u001b[38;5;241m.\u001b[39m\u001b[38;5;18m__class__\u001b[39m\u001b[38;5;241m.\u001b[39m\u001b[38;5;18m__name__\u001b[39m\u001b[38;5;132;01m}\u001b[39;00m\u001b[38;5;124m_\u001b[39m\u001b[38;5;132;01m{\u001b[39;00m\u001b[38;5;28mself\u001b[39m\u001b[38;5;241m.\u001b[39mrun_id\u001b[38;5;132;01m}\u001b[39;00m\u001b[38;5;124m.pth\u001b[39m\u001b[38;5;124m\"\u001b[39m\n\u001b[0;32m     55\u001b[0m save_path \u001b[38;5;241m=\u001b[39m os\u001b[38;5;241m.\u001b[39mpath\u001b[38;5;241m.\u001b[39mjoin(\u001b[38;5;124m\"\u001b[39m\u001b[38;5;124mmodels\u001b[39m\u001b[38;5;124m\"\u001b[39m, model_name)\n\u001b[1;32m---> 57\u001b[0m \u001b[43mtorch\u001b[49m\u001b[38;5;241;43m.\u001b[39;49m\u001b[43msave\u001b[49m\u001b[43m(\u001b[49m\u001b[38;5;28;43mself\u001b[39;49m\u001b[38;5;241;43m.\u001b[39;49m\u001b[43mmodel\u001b[49m\u001b[38;5;241;43m.\u001b[39;49m\u001b[43mstate_dict\u001b[49m\u001b[43m(\u001b[49m\u001b[43m)\u001b[49m\u001b[43m,\u001b[49m\u001b[43m \u001b[49m\u001b[43msave_path\u001b[49m\u001b[43m)\u001b[49m\n\u001b[0;32m     59\u001b[0m wandb\u001b[38;5;241m.\u001b[39msave(model_name)\n\u001b[0;32m     61\u001b[0m \u001b[38;5;28;01mif\u001b[39;00m \u001b[38;5;28mself\u001b[39m\u001b[38;5;241m.\u001b[39mverbose:\n",
      "File \u001b[1;32mc:\\Users\\fahrn\\Documents\\Classes\\dlbs\\fhnw-ds-dlbs\\.venv\\Lib\\site-packages\\torch\\serialization.py:850\u001b[0m, in \u001b[0;36msave\u001b[1;34m(obj, f, pickle_module, pickle_protocol, _use_new_zipfile_serialization, _disable_byteorder_record)\u001b[0m\n\u001b[0;32m    848\u001b[0m \u001b[38;5;28;01mif\u001b[39;00m _use_new_zipfile_serialization:\n\u001b[0;32m    849\u001b[0m     \u001b[38;5;28;01mwith\u001b[39;00m _open_zipfile_writer(f) \u001b[38;5;28;01mas\u001b[39;00m opened_zipfile:\n\u001b[1;32m--> 850\u001b[0m         \u001b[43m_save\u001b[49m\u001b[43m(\u001b[49m\n\u001b[0;32m    851\u001b[0m \u001b[43m            \u001b[49m\u001b[43mobj\u001b[49m\u001b[43m,\u001b[49m\n\u001b[0;32m    852\u001b[0m \u001b[43m            \u001b[49m\u001b[43mopened_zipfile\u001b[49m\u001b[43m,\u001b[49m\n\u001b[0;32m    853\u001b[0m \u001b[43m            \u001b[49m\u001b[43mpickle_module\u001b[49m\u001b[43m,\u001b[49m\n\u001b[0;32m    854\u001b[0m \u001b[43m            \u001b[49m\u001b[43mpickle_protocol\u001b[49m\u001b[43m,\u001b[49m\n\u001b[0;32m    855\u001b[0m \u001b[43m            \u001b[49m\u001b[43m_disable_byteorder_record\u001b[49m\u001b[43m,\u001b[49m\n\u001b[0;32m    856\u001b[0m \u001b[43m        \u001b[49m\u001b[43m)\u001b[49m\n\u001b[0;32m    857\u001b[0m         \u001b[38;5;28;01mreturn\u001b[39;00m\n\u001b[0;32m    858\u001b[0m \u001b[38;5;28;01melse\u001b[39;00m:\n",
      "File \u001b[1;32mc:\\Users\\fahrn\\Documents\\Classes\\dlbs\\fhnw-ds-dlbs\\.venv\\Lib\\site-packages\\torch\\serialization.py:1114\u001b[0m, in \u001b[0;36m_save\u001b[1;34m(obj, zip_file, pickle_module, pickle_protocol, _disable_byteorder_record)\u001b[0m\n\u001b[0;32m   1112\u001b[0m     storage \u001b[38;5;241m=\u001b[39m storage\u001b[38;5;241m.\u001b[39mcpu()\n\u001b[0;32m   1113\u001b[0m \u001b[38;5;66;03m# Now that it is on the CPU we can directly copy it into the zip file\u001b[39;00m\n\u001b[1;32m-> 1114\u001b[0m \u001b[43mzip_file\u001b[49m\u001b[38;5;241;43m.\u001b[39;49m\u001b[43mwrite_record\u001b[49m\u001b[43m(\u001b[49m\u001b[43mname\u001b[49m\u001b[43m,\u001b[49m\u001b[43m \u001b[49m\u001b[43mstorage\u001b[49m\u001b[43m,\u001b[49m\u001b[43m \u001b[49m\u001b[43mnum_bytes\u001b[49m\u001b[43m)\u001b[49m\n",
      "\u001b[1;31mKeyboardInterrupt\u001b[0m: "
     ]
    }
   ],
   "source": [
    "import torch.optim as optim\n",
    "import torch.nn as nn\n",
    "from core import UNetBaseline\n",
    "from core import UNetImproved\n",
    "from core import UNet\n",
    "\n",
    "encoder_dims = [64, 128, 256, 512, 1024]\n",
    "decoder_dims = [1024, 512, 256, 128, 64]\n",
    "\n",
    "model = UNet(num_classes=19, encoder_dims=encoder_dims, decoder_dims=decoder_dims).to(device)\n",
    "criterion = nn.CrossEntropyLoss(ignore_index=255, weight=class_weights)\n",
    "optimizer = optim.Adam(model.parameters(), lr=1e-3)\n",
    "\n",
    "Trainer(model, \n",
    "        criterion, \n",
    "        optimizer, \n",
    "        lr=1e-3, \n",
    "        epochs=1000, \n",
    "        weight_init=None, \n",
    "        seed=RANDOM_SEED, \n",
    "        device=device, \n",
    "        verbose=True, \n",
    "        run_name=\"unet_mini\").run(overfit_datalader, \n",
    "                                  overfit_datalader)"
   ]
  },
  {
   "cell_type": "markdown",
   "metadata": {},
   "source": [
    "### Overfit\n",
    "\n",
    "[Overfit](https://karpathy.github.io/2019/04/25/recipe/#:~:text=3.-,Overfit,-At%20this%20stage)"
   ]
  },
  {
   "cell_type": "code",
   "execution_count": null,
   "metadata": {},
   "outputs": [],
   "source": []
  },
  {
   "cell_type": "markdown",
   "metadata": {},
   "source": [
    "### Regularization\n",
    "\n",
    "[Regularize](https://karpathy.github.io/2019/04/25/recipe/#:~:text=4.-,Regularize,-Ideally%2C%20we%20are)"
   ]
  },
  {
   "cell_type": "code",
   "execution_count": null,
   "metadata": {},
   "outputs": [],
   "source": []
  },
  {
   "cell_type": "markdown",
   "metadata": {},
   "source": [
    "### Tuning the model\n",
    "\n",
    "[Tune](https://karpathy.github.io/2019/04/25/recipe/#:~:text=5.-,Tune,-You%20should%20now)"
   ]
  },
  {
   "cell_type": "code",
   "execution_count": null,
   "metadata": {},
   "outputs": [],
   "source": []
  },
  {
   "cell_type": "markdown",
   "metadata": {},
   "source": [
    "### Ensembles & Leave it training\n",
    "\n",
    "[Squeeze out the juice](https://karpathy.github.io/2019/04/25/recipe/#:~:text=Squeeze%20out%20the%20juice)"
   ]
  },
  {
   "cell_type": "code",
   "execution_count": null,
   "metadata": {},
   "outputs": [],
   "source": []
  }
 ],
 "metadata": {
  "kernelspec": {
   "display_name": ".venv",
   "language": "python",
   "name": "python3"
  },
  "language_info": {
   "codemirror_mode": {
    "name": "ipython",
    "version": 3
   },
   "file_extension": ".py",
   "mimetype": "text/x-python",
   "name": "python",
   "nbconvert_exporter": "python",
   "pygments_lexer": "ipython3",
   "version": "3.12.5"
  }
 },
 "nbformat": 4,
 "nbformat_minor": 2
}
